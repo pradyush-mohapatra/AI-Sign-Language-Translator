{
 "cells": [
  {
   "cell_type": "code",
   "execution_count": null,
   "id": "1cebc752-cfd8-43f9-9797-07a067f1a27c",
   "metadata": {},
   "outputs": [],
   "source": [
    "import tensorflow as tf\n",
    "\n",
    "# Load the TensorFlow Lite model\n",
    "interpreter = tf.lite.Interpreter(model_path=\"Model/model_unquant.tflite\")\n",
    "\n",
    "# Allocate memory for the model\n",
    "interpreter.allocate_tensors()\n",
    "\n",
    "print(\"TFLite model loaded successfully!\")\n"
   ]
  },
  {
   "cell_type": "code",
   "execution_count": null,
   "id": "91e6ae18-4ac3-4c5c-a65b-fc2a93437033",
   "metadata": {},
   "outputs": [],
   "source": []
  }
 ],
 "metadata": {
  "kernelspec": {
   "display_name": "Python 3 (ipykernel)",
   "language": "python",
   "name": "python3"
  },
  "language_info": {
   "codemirror_mode": {
    "name": "ipython",
    "version": 3
   },
   "file_extension": ".py",
   "mimetype": "text/x-python",
   "name": "python",
   "nbconvert_exporter": "python",
   "pygments_lexer": "ipython3",
   "version": "3.12.2"
  }
 },
 "nbformat": 4,
 "nbformat_minor": 5
}
